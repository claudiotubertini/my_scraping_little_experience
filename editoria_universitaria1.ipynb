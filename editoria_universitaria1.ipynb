{
 "cells": [
  {
   "cell_type": "markdown",
   "id": "525a6dc7",
   "metadata": {},
   "source": [
    "## I numeri di Almalibri"
   ]
  },
  {
   "cell_type": "code",
   "execution_count": null,
   "id": "63477805",
   "metadata": {},
   "outputs": [],
   "source": [
    "import pandas as pd\n",
    "import numpy as np\n",
    "import seaborn as sns\n",
    "from PIL import Image\n",
    "from IPython.display import Image\n",
    "from IPython.display import HTML, display\n",
    "import matplotlib.pyplot as plt\n",
    "%matplotlib inline"
   ]
  },
  {
   "cell_type": "markdown",
   "id": "5726223f",
   "metadata": {},
   "source": [
    "Il file \"editori.csv\" è il risultato della query che richiama l'elenco degli editori e il numero di titoli citati nelle bibliografie."
   ]
  },
  {
   "cell_type": "code",
   "execution_count": null,
   "id": "320e5b16",
   "metadata": {},
   "outputs": [],
   "source": [
    "df = pd.read_csv('editori.csv', \n",
    "                 names=['Editore', 'Frequenza'], header=0, skiprows=[1])"
   ]
  },
  {
   "cell_type": "markdown",
   "id": "8a16ff7e",
   "metadata": {},
   "source": [
    "Ampiezza del catalogo dei libri adottati"
   ]
  },
  {
   "cell_type": "code",
   "execution_count": null,
   "id": "297820f3",
   "metadata": {},
   "outputs": [],
   "source": [
    "df.Frequenza.sum()"
   ]
  },
  {
   "cell_type": "markdown",
   "id": "2c88070d",
   "metadata": {},
   "source": [
    "Il numero degli editori presenti nel catalogo"
   ]
  },
  {
   "cell_type": "code",
   "execution_count": null,
   "id": "fcf22c3d",
   "metadata": {},
   "outputs": [],
   "source": [
    "df.count()"
   ]
  },
  {
   "cell_type": "markdown",
   "id": "15a2d648",
   "metadata": {},
   "source": [
    "# Numero docenti e numero insegnamenti \n",
    "\n",
    "La query è stata lanciata nel backend. \n",
    "1. Insegnamenti singoli, ovvero contati solo una volta indipendentemente dai curricula/piani di studio in cui sono inseriti \n",
    "2. Un insegnamento può essere inserito in più corsi di laurea e in questo caso può essere contato più di una volta perché non è detto che adotti lo stesso programma nei vari corsi di laurea\n",
    "3. Ci sono materie prive per definizione di programma e bibliografia. Es: TIROCINIO, TESI DI LAUREA, ecc.\n",
    "4. I docenti sono stati contati per università e nome (in modo da evitare omonimie, sperando che nella stessa università non ci siano due docenti con lo stesso nome)\n",
    "5. Se un docente ha più insegnamenti, come accade di sovente, è stato contato una volta sola  \n",
    "\n",
    "ROARS riporta per il 2018, 44844 docenti tra ordinari, associati e ricercatori. A questi si devono aggiungere 31587 docenti a contratto."
   ]
  },
  {
   "cell_type": "code",
   "execution_count": null,
   "id": "25955898",
   "metadata": {},
   "outputs": [],
   "source": [
    "from IPython.display import HTML, display\n",
    "\n",
    "data = [[2018,85387,70155,66473],\n",
    "        [2019,96490,78752,76606],\n",
    "        [2020,107720,81665,79954],\n",
    "        ['Totali', 289597,230572,223033]\n",
    "        ]\n",
    "data2 = [[2018,33727,9442,43169],\n",
    "        [2019,38399,12039,50438],\n",
    "        [2020,39304,11091,50395],\n",
    "        ['Totali',111430,32572,144002]]\n",
    "\n",
    "display(HTML(\n",
    "   '<table><tr><th>&nbsp;</th><th>Insegnamenti</th><th>Con programma</th><th>Con bibliografia</th><tr>{}</tr></table>'.format(\n",
    "       '</tr><tr>'.join(\n",
    "           '<td>{}</td>'.format('</td><td>'.join(str(_) for _ in row)) for row in data)\n",
    "       )\n",
    "),\n",
    "    HTML(\n",
    "   '<br /><table><tr><th>&nbsp;</th><th>Docenti</th><th>Sub docenti</th><th>Totali</th><tr>{}</tr></table>'.format(\n",
    "       '</tr><tr>'.join(\n",
    "           '<td>{}</td>'.format('</td><td>'.join(str(_) for _ in row)) for row in data2)\n",
    "       )\n",
    ")\n",
    "       )"
   ]
  },
  {
   "cell_type": "code",
   "execution_count": null,
   "id": "32c825fb",
   "metadata": {},
   "outputs": [],
   "source": [
    "Image(filename='almalibri-dati.jpg')"
   ]
  },
  {
   "cell_type": "markdown",
   "id": "d562cd0a",
   "metadata": {},
   "source": [
    "Un esempio di ricerca di adozioni per l'area 14 Scienze politiche e sociali, SSD Storia delle relazioni internazionali, per qualunque tipo di laurea. Il file csv è scaricabile direttamente da https://www.almalibri.it/ricerca/adozioni/ dopo aver effettuato la ricerca."
   ]
  },
  {
   "cell_type": "code",
   "execution_count": null,
   "id": "0a004881",
   "metadata": {},
   "outputs": [],
   "source": [
    "ad = pd.read_csv('A14_SPS-06.csv', sep=\";\")"
   ]
  },
  {
   "cell_type": "markdown",
   "id": "526f19b7",
   "metadata": {},
   "source": [
    "Eliminiamo i campi che non ci interessano."
   ]
  },
  {
   "cell_type": "code",
   "execution_count": null,
   "id": "25fc5962",
   "metadata": {},
   "outputs": [],
   "source": [
    "to_drop = ['laurea_tipo', 'a_a', 'laurea_classe_cod', 'curr_nome', \n",
    "           'curr_materia_anno', 'curr_materia_periodo', 'modulo_nome', 'sub_modulo_gruppo', \n",
    "           'sub_modulo_nome', 'modulo_cfu', 'modulo_periodo', 'materia_ssd_cod', 'insegnamento_prof_www',\n",
    "          'traduttori', 'lingua', 'testo_uso', 'testo_freq', 'edizione', 'laurea_nome']\n",
    "ad_simple = ad.drop(to_drop, axis=1)"
   ]
  },
  {
   "cell_type": "markdown",
   "id": "2d889ef0",
   "metadata": {},
   "source": [
    "Raggruppiamo ora le adozioni per singolo editore"
   ]
  },
  {
   "cell_type": "code",
   "execution_count": null,
   "id": "051df9e1",
   "metadata": {},
   "outputs": [],
   "source": [
    "ad2 = ad_simple[['materia_nome','editore']].groupby(['editore'])['materia_nome'].count()\\\n",
    "                                .reset_index(name='numero adozioni')\\\n",
    "                                .sort_values('numero adozioni', ascending=False)"
   ]
  },
  {
   "cell_type": "markdown",
   "id": "4fd8f73f",
   "metadata": {},
   "source": [
    "Disegnamo un grafico a barre con la numerosità delle adozioni; per adozioni, come è usuale, distinguiamo tutti i corsi con curricula, moduli, ecc. I dati sono ordinati per numero di adozioni e prendiamo i primi 50 editori dei 145 presenti."
   ]
  },
  {
   "cell_type": "code",
   "execution_count": null,
   "id": "9f3f5f23",
   "metadata": {},
   "outputs": [],
   "source": [
    "plt.figure(figsize=(20,10))\n",
    "sns.set_theme(style=\"ticks\", color_codes=True)\n",
    "sns.barplot(x=\"editore\", y='numero adozioni', data=ad2.head(50), color=\"c\")\n",
    "plt.xticks(rotation=90)"
   ]
  },
  {
   "cell_type": "markdown",
   "id": "a890750f",
   "metadata": {},
   "source": [
    "Associamo ora l'insegnamento all'editore e al numero di adozioni"
   ]
  },
  {
   "cell_type": "code",
   "execution_count": null,
   "id": "3c8e997f",
   "metadata": {},
   "outputs": [],
   "source": [
    "ad3 = ad[['materia_nome','editore']].groupby(['editore', 'materia_nome'])['materia_nome'].count()\\\n",
    "    .reset_index(name='numero adozioni').sort_values('editore')"
   ]
  },
  {
   "cell_type": "code",
   "execution_count": null,
   "id": "4ea14f1e",
   "metadata": {},
   "outputs": [],
   "source": [
    "def display_table(data):\n",
    "    html = \"<table><tr><th>Editore</th><th>&nbsp;</th><th style=\\\"text-align=right\\\">Insegnamento</th><th>&nbsp;</th><th>Numero adozioni</th></tr>\"\n",
    "    for row in data:\n",
    "        html += \"<tr>\"\n",
    "        for field in row:\n",
    "            html += \"<td>%s<td>\"%(field)\n",
    "        html += \"</tr>\"\n",
    "    html += \"</table>\"\n",
    "    display(HTML(html))\n",
    "display_table(ad3.values[:5])"
   ]
  },
  {
   "cell_type": "markdown",
   "id": "c3f7b32d",
   "metadata": {},
   "source": [
    "Questa tabella ci mostra un'anomalia da tenere in considereazione utilizzando Almalibri. Facendo la ricerca delle adozioni per editore su almalibri.it per l'editore Alberto Longo risultano solo 15 adozioni e non 46. La ricerca sul sito infatti presenta solo un \"riassunto\" e non riporta le suddivisione per curricula, come invece avviene sui dati completi scaricati in formato testo."
   ]
  },
  {
   "cell_type": "code",
   "execution_count": null,
   "id": "903fd64e",
   "metadata": {},
   "outputs": [],
   "source": [
    "# numero di righe associate all'editore cercato\n",
    "ad[ad['editore']=='Angelo Longo'].count()"
   ]
  },
  {
   "cell_type": "markdown",
   "id": "c0898693",
   "metadata": {},
   "source": [
    "## Progetto editoriale"
   ]
  },
  {
   "cell_type": "code",
   "execution_count": null,
   "id": "efe96e33",
   "metadata": {},
   "outputs": [],
   "source": [
    "to_drop = ['a_a', 'laurea_classe_cod', 'curr_nome', \n",
    "           'curr_materia_anno', 'curr_materia_periodo', 'modulo_nome', 'sub_modulo_gruppo', \n",
    "           'sub_modulo_nome', 'modulo_cfu', 'modulo_periodo', 'materia_ssd_cod', 'insegnamento_prof_www',\n",
    "          'traduttori', 'lingua', 'testo_uso', 'testo_freq', 'edizione']\n",
    "ad_progetto = ad.drop(to_drop, axis=1)"
   ]
  },
  {
   "cell_type": "code",
   "execution_count": null,
   "id": "9f0c0d26",
   "metadata": {},
   "outputs": [],
   "source": [
    "ad_lauree = ad.groupby(['laurea_nome','materia_nome'])"
   ]
  },
  {
   "cell_type": "code",
   "execution_count": null,
   "id": "414df69a",
   "metadata": {},
   "outputs": [],
   "source": [
    "ad_lauree.head"
   ]
  },
  {
   "cell_type": "code",
   "execution_count": null,
   "id": "e66bad83",
   "metadata": {},
   "outputs": [],
   "source": [
    "ad_lauree.groups"
   ]
  },
  {
   "cell_type": "code",
   "execution_count": null,
   "id": "9540f4e2",
   "metadata": {},
   "outputs": [],
   "source": []
  }
 ],
 "metadata": {
  "kernelspec": {
   "display_name": "Python 3",
   "language": "python",
   "name": "python3"
  },
  "language_info": {
   "codemirror_mode": {
    "name": "ipython",
    "version": 3
   },
   "file_extension": ".py",
   "mimetype": "text/x-python",
   "name": "python",
   "nbconvert_exporter": "python",
   "pygments_lexer": "ipython3",
   "version": "3.7.7"
  }
 },
 "nbformat": 4,
 "nbformat_minor": 5
}
