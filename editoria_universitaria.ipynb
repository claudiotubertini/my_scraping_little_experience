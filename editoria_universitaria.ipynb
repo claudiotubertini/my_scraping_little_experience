{
 "cells": [
  {
   "cell_type": "code",
   "execution_count": 1,
   "id": "63477805",
   "metadata": {},
   "outputs": [],
   "source": [
    "import pandas as pd\n",
    "import numpy as np\n",
    "import seaborn as sns\n",
    "import matplotlib.pyplot as plt\n",
    "%matplotlib inline"
   ]
  },
  {
   "cell_type": "code",
   "execution_count": 2,
   "id": "320e5b16",
   "metadata": {},
   "outputs": [],
   "source": [
    "df = pd.read_csv('editori.csv', \n",
    "                 names=['Editore', 'Frequenza'], header=0, skiprows=[1])"
   ]
  },
  {
   "cell_type": "code",
   "execution_count": 3,
   "id": "297820f3",
   "metadata": {},
   "outputs": [
    {
     "data": {
      "text/plain": [
       "100224"
      ]
     },
     "execution_count": 3,
     "metadata": {},
     "output_type": "execute_result"
    }
   ],
   "source": [
    "# Ampiezza catalogo dei libri adottati\n",
    "df.Frequenza.sum()"
   ]
  },
  {
   "cell_type": "code",
   "execution_count": 5,
   "id": "93307324",
   "metadata": {},
   "outputs": [
    {
     "data": {
      "text/html": [
       "<div>\n",
       "<style scoped>\n",
       "    .dataframe tbody tr th:only-of-type {\n",
       "        vertical-align: middle;\n",
       "    }\n",
       "\n",
       "    .dataframe tbody tr th {\n",
       "        vertical-align: top;\n",
       "    }\n",
       "\n",
       "    .dataframe thead th {\n",
       "        text-align: right;\n",
       "    }\n",
       "</style>\n",
       "<table border=\"1\" class=\"dataframe\">\n",
       "  <thead>\n",
       "    <tr style=\"text-align: right;\">\n",
       "      <th></th>\n",
       "      <th>Editore</th>\n",
       "      <th>Frequenza</th>\n",
       "    </tr>\n",
       "  </thead>\n",
       "  <tbody>\n",
       "    <tr>\n",
       "      <th>0</th>\n",
       "      <td>Agorà &amp; Co</td>\n",
       "      <td>12</td>\n",
       "    </tr>\n",
       "    <tr>\n",
       "      <th>1</th>\n",
       "      <td>Artech House</td>\n",
       "      <td>33</td>\n",
       "    </tr>\n",
       "    <tr>\n",
       "      <th>2</th>\n",
       "      <td>Associação Nacional de Pós Graduação</td>\n",
       "      <td>1</td>\n",
       "    </tr>\n",
       "    <tr>\n",
       "      <th>3</th>\n",
       "      <td>CIE Inversiones Editoriales Dossat-2000</td>\n",
       "      <td>1</td>\n",
       "    </tr>\n",
       "    <tr>\n",
       "      <th>4</th>\n",
       "      <td>Catedra</td>\n",
       "      <td>90</td>\n",
       "    </tr>\n",
       "  </tbody>\n",
       "</table>\n",
       "</div>"
      ],
      "text/plain": [
       "                                    Editore  Frequenza\n",
       "0                                Agorà & Co         12\n",
       "1                              Artech House         33\n",
       "2      Associação Nacional de Pós Graduação          1\n",
       "3   CIE Inversiones Editoriales Dossat-2000          1\n",
       "4                                   Catedra         90"
      ]
     },
     "execution_count": 5,
     "metadata": {},
     "output_type": "execute_result"
    }
   ],
   "source": [
    "df.head()"
   ]
  },
  {
   "cell_type": "code",
   "execution_count": 4,
   "id": "fcf22c3d",
   "metadata": {},
   "outputs": [
    {
     "data": {
      "text/plain": [
       "Editore      7629\n",
       "Frequenza    7629\n",
       "dtype: int64"
      ]
     },
     "execution_count": 4,
     "metadata": {},
     "output_type": "execute_result"
    }
   ],
   "source": [
    "# numero editori censiti\n",
    "df.count()"
   ]
  },
  {
   "cell_type": "code",
   "execution_count": null,
   "id": "2ba437bc",
   "metadata": {},
   "outputs": [],
   "source": [
    "df.iloc[:,0]\n",
    "df['Editore'].is_unique\n",
    "df2 = df['Editore'].str.contains('De Gruyter').sum()"
   ]
  },
  {
   "cell_type": "code",
   "execution_count": null,
   "id": "0a004881",
   "metadata": {},
   "outputs": [],
   "source": [
    "ad = pd.read_csv('A14_SPS-06.csv', sep=\";\")"
   ]
  },
  {
   "cell_type": "code",
   "execution_count": null,
   "id": "b7766039",
   "metadata": {},
   "outputs": [],
   "source": [
    "adnuovo = pd.read_csv('area16_sps6.csv', sep=\";\")"
   ]
  },
  {
   "cell_type": "code",
   "execution_count": null,
   "id": "5771db2c",
   "metadata": {},
   "outputs": [],
   "source": [
    "ad.info()"
   ]
  },
  {
   "cell_type": "code",
   "execution_count": null,
   "id": "25fc5962",
   "metadata": {},
   "outputs": [],
   "source": [
    "to_drop = ['laurea_tipo', 'a_a', 'laurea_classe_cod', 'curr_nome', \n",
    "           'curr_materia_anno', 'curr_materia_periodo', 'modulo_nome', 'sub_modulo_gruppo', \n",
    "           'sub_modulo_nome', 'modulo_cfu', 'modulo_periodo', 'materia_ssd_cod', 'insegnamento_prof_www',\n",
    "          'traduttori', 'lingua', 'testo_uso', 'testo_freq', 'edizione', 'laurea_nome']\n",
    "ad.drop(to_drop, inplace=True, axis=1)"
   ]
  },
  {
   "cell_type": "code",
   "execution_count": null,
   "id": "051df9e1",
   "metadata": {},
   "outputs": [],
   "source": [
    "ad2 = ad[['materia_nome','editore','testo_obb']].groupby(['editore'])['materia_nome'] \\\n",
    "                             .count() \\\n",
    "                             .reset_index(name='count') \\\n",
    "                             .sort_values('count',ascending=False)"
   ]
  },
  {
   "cell_type": "code",
   "execution_count": null,
   "id": "3c8e997f",
   "metadata": {},
   "outputs": [],
   "source": [
    "#ad2 = ad.sort_values('editore', axis=0, ascending=True, inplace=False, kind='quicksort', na_position='last')"
   ]
  },
  {
   "cell_type": "code",
   "execution_count": null,
   "id": "07b2d226",
   "metadata": {},
   "outputs": [],
   "source": [
    "# ad[(ad['editore']=='Angelo Longo') & (ad['testo_obb']=='obb')]\n",
    "adnuovo[adnuovo['editore']=='Angelo Longo'].count()"
   ]
  },
  {
   "cell_type": "code",
   "execution_count": null,
   "id": "5b70495b",
   "metadata": {},
   "outputs": [],
   "source": [
    "#ad.set_index(['editore','isbn'], inplace=True)"
   ]
  },
  {
   "cell_type": "code",
   "execution_count": null,
   "id": "bfee272f",
   "metadata": {},
   "outputs": [],
   "source": [
    "#ad2 = ad.groupby(['editore','isbn']).count()"
   ]
  },
  {
   "cell_type": "code",
   "execution_count": null,
   "id": "f57ca970",
   "metadata": {},
   "outputs": [],
   "source": [
    "#ad[['materia_nome','editore']].groupby(['editore'])['materia_nome'].groups"
   ]
  },
  {
   "cell_type": "code",
   "execution_count": null,
   "id": "a1c9b198",
   "metadata": {},
   "outputs": [],
   "source": [
    "test = ad.iloc[:100]"
   ]
  },
  {
   "cell_type": "code",
   "execution_count": null,
   "id": "90a4b898",
   "metadata": {},
   "outputs": [],
   "source": [
    "#tips = sns.load_dataset(\"tips\")\n",
    "#tips.index"
   ]
  },
  {
   "cell_type": "code",
   "execution_count": null,
   "id": "10894681",
   "metadata": {},
   "outputs": [],
   "source": [
    "#ad.head()"
   ]
  },
  {
   "cell_type": "code",
   "execution_count": null,
   "id": "5bc00ec4",
   "metadata": {},
   "outputs": [],
   "source": [
    "plt.figure(figsize=(20,10))\n",
    "ad2.head(20).plot(kind='barh', y='count', x='editore')"
   ]
  },
  {
   "cell_type": "code",
   "execution_count": null,
   "id": "ea928677",
   "metadata": {},
   "outputs": [],
   "source": [
    "#sns.set()\n",
    "#sns.pairplot(ad, hue='editore');\n",
    "#df = tips.groupby('smoker').mean()\n",
    "#df.reset_index()\n",
    "#sns.catplot(data=test, kind=\"box\")\n",
    "#g = sns.swarmplot(data=test.editore)\n",
    "#g = sns.factorplot(\"editore\", data=test, aspect=1.5, kind=\"count\", color=\"b\")\n",
    "#g.set_xticklabels(rotation=90)\n",
    "#sns.catplot(x=\"editore\", hue=\"materia_nome\", data=test, kind=\"swarm\")\n",
    "#sns.set_theme()\n",
    "#sns.set_context(\"paper\", font_scale=1, rc={\"lines.linewidth\": 2.5})\n",
    "plt.figure(figsize=(20,10))\n",
    "#sns.countplot(data=ad2)\n",
    "#sns.countplot(x=\"editore\", data=ad2)\n",
    "\n",
    "#df_2 = ad.groupby('editore').count()\n",
    "#df_2.reset_index(inplace=True)\n",
    "#sns.barplot(x='editore', data=df_2)\n",
    "g = sns.barplot(x='editore', y='count', data=ad2.head(10))\n",
    "plt.xticks(rotation=90)\n",
    "#g.set_xticks(range(len(s_x)+1))\n",
    "#g.set_yticklabels(range(len(ad2['count'])))\n",
    "#g.set_xticklabels(rotation=45)\n",
    "#g.set_axis_labels"
   ]
  },
  {
   "cell_type": "code",
   "execution_count": null,
   "id": "c63cd952",
   "metadata": {},
   "outputs": [],
   "source": [
    "ad2.index"
   ]
  },
  {
   "cell_type": "code",
   "execution_count": null,
   "id": "be752d65",
   "metadata": {},
   "outputs": [],
   "source": []
  },
  {
   "cell_type": "code",
   "execution_count": null,
   "id": "9f0c0d26",
   "metadata": {},
   "outputs": [],
   "source": []
  }
 ],
 "metadata": {
  "kernelspec": {
   "display_name": "Python 3",
   "language": "python",
   "name": "python3"
  },
  "language_info": {
   "codemirror_mode": {
    "name": "ipython",
    "version": 3
   },
   "file_extension": ".py",
   "mimetype": "text/x-python",
   "name": "python",
   "nbconvert_exporter": "python",
   "pygments_lexer": "ipython3",
   "version": "3.7.7"
  }
 },
 "nbformat": 4,
 "nbformat_minor": 5
}
